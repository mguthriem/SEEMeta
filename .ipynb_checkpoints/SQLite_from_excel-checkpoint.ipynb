{
 "cells": [
  {
   "cell_type": "code",
   "execution_count": 31,
   "id": "fda69929-c9ce-414a-a54f-bcc65d5d2dfb",
   "metadata": {},
   "outputs": [],
   "source": [
    "import pandas as pd\n",
    "import os\n",
    "from sqlalchemy import create_engine,Table, MetaData, Column, Integer, String, ForeignKey, text\n",
    "\n",
    "#code below is only run once! It created the db from the excel but, after that we'll use the db and discard excel...\n",
    "\n",
    "# Set up path and filenames\n",
    "path = \"./materials/\"\n",
    "os.makedirs(path, exist_ok=True)\n",
    "\n",
    "xlsx_file = os.path.join(path, \"materials.xlsx\")\n",
    "db_file = os.path.join(path, \"materials.db\")\n",
    "engine = create_engine(f'sqlite:///{db_file}')\n",
    "\n",
    "# Load Excel data\n",
    "df = pd.read_excel(xlsx_file)\n",
    "\n",
    "# Step 1: Write to temporary table (no ID yet)\n",
    "with engine.connect() as conn:\n",
    "    df.to_sql('materials_temp', con=conn, if_exists='replace', index=False)\n",
    "\n",
    "    # Step 2: Create new 'materials' table with an auto-incrementing ID\n",
    "    conn.execute(text(\"\"\"\n",
    "        CREATE TABLE materials (\n",
    "            id INTEGER PRIMARY KEY AUTOINCREMENT,\n",
    "            name TEXT,\n",
    "            grade TEXT,\n",
    "            chemical_formula TEXT,\n",
    "            composition_by_weight_percent TEXT,\n",
    "            mass_density_g_cm3 REAL,\n",
    "            data_source TEXT\n",
    "        )\n",
    "    \"\"\"))\n",
    "\n",
    "    # Step 3: Copy from temp table into new table\n",
    "    conn.execute(text(\"\"\"\n",
    "        INSERT INTO materials (\n",
    "            name, grade, chemical_formula, composition_by_weight_percent, mass_density_g_cm3, data_source\n",
    "        )\n",
    "        SELECT name, grade, chemical_formula, composition_by_weight_percent, mass_density_g_cm3, data_source\n",
    "        FROM materials_temp\n",
    "    \"\"\"))\n",
    "\n",
    "    # Step 4: Drop the temp table\n",
    "    conn.execute(text(\"DROP TABLE materials_temp\"))"
   ]
  },
  {
   "cell_type": "code",
   "execution_count": 32,
   "id": "b2c1ad74-4926-4911-a29a-254f6a09220a",
   "metadata": {},
   "outputs": [
    {
     "ename": "ValueError",
     "evalue": "Material 'ZTA' not found in database.",
     "output_type": "error",
     "traceback": [
      "\u001b[31m---------------------------------------------------------------------------\u001b[39m",
      "\u001b[31mValueError\u001b[39m                                Traceback (most recent call last)",
      "\u001b[36mCell\u001b[39m\u001b[36m \u001b[39m\u001b[32mIn[32]\u001b[39m\u001b[32m, line 37\u001b[39m\n\u001b[32m     31\u001b[39m result = conn.execute(\n\u001b[32m     32\u001b[39m     text(\u001b[33m\"\u001b[39m\u001b[33mSELECT id FROM materials WHERE name = :name\u001b[39m\u001b[33m\"\u001b[39m),\n\u001b[32m     33\u001b[39m     {\u001b[33m\"\u001b[39m\u001b[33mname\u001b[39m\u001b[33m\"\u001b[39m: material_name}\n\u001b[32m     34\u001b[39m ).fetchone()\n\u001b[32m     36\u001b[39m \u001b[38;5;28;01mif\u001b[39;00m result \u001b[38;5;129;01mis\u001b[39;00m \u001b[38;5;28;01mNone\u001b[39;00m:\n\u001b[32m---> \u001b[39m\u001b[32m37\u001b[39m     \u001b[38;5;28;01mraise\u001b[39;00m \u001b[38;5;167;01mValueError\u001b[39;00m(\u001b[33mf\u001b[39m\u001b[33m\"\u001b[39m\u001b[33mMaterial \u001b[39m\u001b[33m'\u001b[39m\u001b[38;5;132;01m{\u001b[39;00mmaterial_name\u001b[38;5;132;01m}\u001b[39;00m\u001b[33m'\u001b[39m\u001b[33m not found in database.\u001b[39m\u001b[33m\"\u001b[39m)\n\u001b[32m     39\u001b[39m material_id = result.id\n\u001b[32m     41\u001b[39m conn.execute(\n\u001b[32m     42\u001b[39m     text(\u001b[33m\"\"\"\u001b[39m\n\u001b[32m     43\u001b[39m \u001b[33m        INSERT INTO spectra (material_id, spectrum_type, data_format, file_path)\u001b[39m\n\u001b[32m   (...)\u001b[39m\u001b[32m     51\u001b[39m     }\n\u001b[32m     52\u001b[39m )\n",
      "\u001b[31mValueError\u001b[39m: Material 'ZTA' not found in database."
     ]
    }
   ],
   "source": [
    "from sqlalchemy import create_engine, MetaData, Table, Column, Integer, String, ForeignKey, text\n",
    "import os\n",
    "\n",
    "# Set up engine and path\n",
    "path = \"./materials/\"\n",
    "db_file = os.path.join(path, \"materials.db\")\n",
    "engine = create_engine(f\"sqlite:///{db_file}\")\n",
    "\n",
    "# Reflect existing DB\n",
    "metadata = MetaData()\n",
    "metadata.reflect(bind=engine)\n",
    "\n",
    "# Create 'spectra' table if it doesn't exist\n",
    "if 'spectra' not in metadata.tables:\n",
    "    spectra = Table(\n",
    "        'spectra', metadata,\n",
    "        Column('id', Integer, primary_key=True),\n",
    "        Column('material_id', Integer, ForeignKey('materials.id')),\n",
    "        Column('spectrum_type', String),\n",
    "        Column('data_format', String),\n",
    "        Column('file_path', String),\n",
    "    )\n",
    "    metadata.create_all(engine)\n",
    "\n",
    "# Specify material name and spectrum info\n",
    "material_name = \"ZTA\"\n",
    "spectrum_path = os.path.abspath(\"materials/spectra/dummySpectrum.csv\")\n",
    "\n",
    "# Insert new spectrum entry linked to the correct material\n",
    "with engine.connect() as conn:\n",
    "    result = conn.execute(\n",
    "        text(\"SELECT id FROM materials WHERE name = :name\"),\n",
    "        {\"name\": material_name}\n",
    "    ).fetchone()\n",
    "\n",
    "    if result is None:\n",
    "        raise ValueError(f\"Material '{material_name}' not found in database.\")\n",
    "\n",
    "    material_id = result.id\n",
    "\n",
    "    conn.execute(\n",
    "        text(\"\"\"\n",
    "            INSERT INTO spectra (material_id, spectrum_type, data_format, file_path)\n",
    "            VALUES (:material_id, :spectrum_type, :data_format, :file_path)\n",
    "        \"\"\"),\n",
    "        {\n",
    "            \"material_id\": material_id,\n",
    "            \"spectrum_type\": \"Attenuation\",\n",
    "            \"data_format\": \"csv\",\n",
    "            \"file_path\": spectrum_path\n",
    "        }\n",
    "    )\n"
   ]
  },
  {
   "cell_type": "code",
   "execution_count": 33,
   "id": "19f37af8-7d4a-42b0-b8b4-382c3811a4b1",
   "metadata": {},
   "outputs": [
    {
     "name": "stdout",
     "output_type": "stream",
     "text": [
      "Materials in database:\n"
     ]
    }
   ],
   "source": [
    "with engine.connect() as conn:\n",
    "    result = conn.execute(text(\"SELECT name FROM materials\"))\n",
    "    names = [row.name for row in result]\n",
    "    print(\"Materials in database:\")\n",
    "    for name in names:\n",
    "        print(f\"- {name}\")"
   ]
  },
  {
   "cell_type": "code",
   "execution_count": 38,
   "id": "9f0a623f-9432-4d9d-ba0e-3d2b5721416b",
   "metadata": {},
   "outputs": [],
   "source": [
    "with engine.connect() as conn:\n",
    "    conn.execute(text(\"\"\"\n",
    "        INSERT INTO materials (\n",
    "            name, grade, chemical_formula, composition_by_weight_percent,\n",
    "            mass_density_g_cm3, data_source\n",
    "        )\n",
    "        SELECT name, grade, chemical_formula, composition_by_weight_percent,\n",
    "               mass_density_g_cm3, data_source\n",
    "        FROM materials_temp\n",
    "    \"\"\"))"
   ]
  },
  {
   "cell_type": "code",
   "execution_count": 40,
   "id": "7e875358-c0ac-449f-806d-5238c4ad8158",
   "metadata": {},
   "outputs": [
    {
     "name": "stdout",
     "output_type": "stream",
     "text": [
      "materials_temp columns:\n",
      "- name\n",
      "- grade\n",
      "- chemical_formula\n",
      "- composition_by_weight_percent\n",
      "- mass_density_g_cm3\n",
      "- data_source\n",
      "\n",
      "materials columns:\n",
      "- id\n",
      "- name\n",
      "- grade\n",
      "- chemical_formula\n",
      "- composition_by_weight_percent\n",
      "- mass_density_g_cm3\n",
      "- data_source\n"
     ]
    }
   ],
   "source": [
    "with engine.connect() as conn:\n",
    "    print(\"materials_temp columns:\")\n",
    "    result = conn.execute(text(\"PRAGMA table_info(materials_temp)\"))\n",
    "    for row in result:\n",
    "        print(\"-\", row.name)\n",
    "\n",
    "    print(\"\\nmaterials columns:\")\n",
    "    result = conn.execute(text(\"PRAGMA table_info(materials)\"))\n",
    "    for row in result:\n",
    "        print(\"-\", row.name)"
   ]
  },
  {
   "cell_type": "code",
   "execution_count": 41,
   "id": "5dcea7a8-fda0-4cd5-ad63-7ca506d816a5",
   "metadata": {},
   "outputs": [],
   "source": [
    "with engine.connect() as conn:\n",
    "    conn.execute(text(\"\"\"\n",
    "        INSERT INTO materials (\n",
    "            name, grade, chemical_formula, composition_by_weight_percent,\n",
    "            mass_density_g_cm3, data_source\n",
    "        )\n",
    "        SELECT name, grade, chemical_formula, composition_by_weight_percent,\n",
    "               mass_density_g_cm3, data_source\n",
    "        FROM materials_temp\n",
    "    \"\"\"))"
   ]
  },
  {
   "cell_type": "code",
   "execution_count": 44,
   "id": "424e4b50-f608-4dc3-a9db-a95a2aac5386",
   "metadata": {},
   "outputs": [
    {
     "name": "stdout",
     "output_type": "stream",
     "text": [
      "Sample rows from materials_temp:\n",
      "{'name': 'Al', 'grade': '7075', 'chemical_formula': None, 'composition_by_weight_percent': 'Zn0.05-Mg0.02-Cu0.02-Al-0.91', 'mass_density_g_cm3': 2.8, 'data_source': 'Klotz 2013'}\n",
      "{'name': 'BeCu', 'grade': 'berylco 25', 'chemical_formula': None, 'composition_by_weight_percent': 'Be0.02-Co0.003-Ni0.003-Fe0.003-Cu-0.971', 'mass_density_g_cm3': 8.25, 'data_source': 'values for Berylco 25'}\n",
      "{'name': 'TiAlV', 'grade': None, 'chemical_formula': None, 'composition_by_weight_percent': None, 'mass_density_g_cm3': None, 'data_source': None}\n",
      "{'name': 'TiZr', 'grade': 'custom', 'chemical_formula': 'Zr0.32-Ti0.68', 'composition_by_weight_percent': None, 'mass_density_g_cm3': 5.23, 'data_source': 'ISIS internal report'}\n",
      "{'name': 'SS304', 'grade': 'SAE 304 stainless', 'chemical_formula': None, 'composition_by_weight_percent': 'Cr0.2-Ni0.1-Fe0.7', 'mass_density_g_cm3': 7.9, 'data_source': 'wikipedia'}\n"
     ]
    }
   ],
   "source": [
    "with engine.connect() as conn:\n",
    "    result = conn.execute(text(\"SELECT * FROM materials_temp LIMIT 5\"))\n",
    "    rows = result.fetchall()\n",
    "    print(\"Sample rows from materials_temp:\")\n",
    "    for row in rows:\n",
    "        print(row._mapping)  # Use _mapping to access column names properly"
   ]
  },
  {
   "cell_type": "code",
   "execution_count": 45,
   "id": "a98f1ec7-5a4b-4cf4-ba17-504033d2c12d",
   "metadata": {},
   "outputs": [
    {
     "name": "stdout",
     "output_type": "stream",
     "text": [
      "materials_temp has 16 rows to copy.\n"
     ]
    }
   ],
   "source": [
    "with engine.connect() as conn:\n",
    "    count = conn.execute(text(\"SELECT COUNT(*) FROM materials_temp\")).scalar()\n",
    "    print(f\"materials_temp has {count} rows to copy.\")"
   ]
  },
  {
   "cell_type": "code",
   "execution_count": 46,
   "id": "b51f4b61-6e16-4f46-b3fd-b21f03f3563a",
   "metadata": {},
   "outputs": [
    {
     "name": "stdout",
     "output_type": "stream",
     "text": [
      "materials currently has 0 rows.\n"
     ]
    }
   ],
   "source": [
    "with engine.connect() as conn:\n",
    "    count = conn.execute(text(\"SELECT COUNT(*) FROM materials\")).scalar()\n",
    "    print(f\"materials currently has {count} rows.\")"
   ]
  },
  {
   "cell_type": "code",
   "execution_count": 47,
   "id": "196b3d5c-257e-4c2d-b6fe-5c678ee1675a",
   "metadata": {},
   "outputs": [
    {
     "name": "stdout",
     "output_type": "stream",
     "text": [
      "✅ Inserted 16 rows into materials:\n",
      "- ID 1: Al\n",
      "- ID 2: BeCu\n",
      "- ID 3: TiAlV\n",
      "- ID 4: TiZr\n",
      "- ID 5: SS304\n",
      "- ID 6: SS316\n",
      "- ID 7: V\n",
      "- ID 8: VNb\n",
      "- ID 9: NiCrAl\n",
      "- ID 10: Teflon\n",
      "- ID 11: Re\n",
      "- ID 12: W\n",
      "- ID 13: WC\n",
      "- ID 14: sinteredDiamond\n",
      "- ID 15: versimax\n",
      "- ID 16: ZTA\n"
     ]
    }
   ],
   "source": [
    "with engine.connect() as conn:\n",
    "    result = conn.execute(text(\"\"\"\n",
    "        INSERT INTO materials (\n",
    "            name, grade, chemical_formula, composition_by_weight_percent,\n",
    "            mass_density_g_cm3, data_source\n",
    "        )\n",
    "        SELECT name, grade, chemical_formula, composition_by_weight_percent,\n",
    "               mass_density_g_cm3, data_source\n",
    "        FROM materials_temp\n",
    "        RETURNING id, name\n",
    "    \"\"\"))\n",
    "    \n",
    "    inserted = result.fetchall()\n",
    "    print(f\"✅ Inserted {len(inserted)} rows into materials:\")\n",
    "    for row in inserted:\n",
    "        print(f\"- ID {row.id}: {row.name}\")\n"
   ]
  },
  {
   "cell_type": "code",
   "execution_count": 48,
   "id": "23007e15-5cf2-4492-b730-6683a3284f55",
   "metadata": {},
   "outputs": [
    {
     "name": "stdout",
     "output_type": "stream",
     "text": [
      "✅ Dropped materials_temp\n"
     ]
    }
   ],
   "source": [
    "with engine.connect() as conn:\n",
    "    conn.execute(text(\"DROP TABLE materials_temp\"))\n",
    "    print(\"✅ Dropped materials_temp\")"
   ]
  },
  {
   "cell_type": "code",
   "execution_count": null,
   "id": "5f61a559-1116-48fc-a09f-3beaf9436507",
   "metadata": {},
   "outputs": [],
   "source": []
  }
 ],
 "metadata": {
  "kernelspec": {
   "display_name": "Python 3 (ipykernel)",
   "language": "python",
   "name": "python3"
  },
  "language_info": {
   "codemirror_mode": {
    "name": "ipython",
    "version": 3
   },
   "file_extension": ".py",
   "mimetype": "text/x-python",
   "name": "python",
   "nbconvert_exporter": "python",
   "pygments_lexer": "ipython3",
   "version": "3.13.5"
  }
 },
 "nbformat": 4,
 "nbformat_minor": 5
}
