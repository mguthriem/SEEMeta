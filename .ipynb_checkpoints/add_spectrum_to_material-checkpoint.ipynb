{
 "cells": [
  {
   "cell_type": "code",
   "execution_count": 2,
   "id": "6892d47d-17e1-42cb-a5c4-55e8485f7ebe",
   "metadata": {},
   "outputs": [
    {
     "ename": "SyntaxError",
     "evalue": "unterminated f-string literal (detected at line 18) (493331822.py, line 18)",
     "output_type": "error",
     "traceback": [
      "  \u001b[36mCell\u001b[39m\u001b[36m \u001b[39m\u001b[32mIn[2]\u001b[39m\u001b[32m, line 18\u001b[39m\n\u001b[31m    \u001b[39m\u001b[31mprint(f\"success! found material: {material_name} with id: {material_id})\u001b[39m\n          ^\n\u001b[31mSyntaxError\u001b[39m\u001b[31m:\u001b[39m unterminated f-string literal (detected at line 18)\n"
     ]
    }
   ],
   "source": [
    "import pandas as pd\n",
    "import os\n",
    "from sqlalchemy import create_engine,Table, MetaData, Column, Integer, String, ForeignKey, text\n",
    "\n",
    "# Set up engine and path\n",
    "path = \"./materials/\"\n",
    "db_file = os.path.join(path, \"materials.db\")\n",
    "engine = create_engine(f\"sqlite:///{db_file}\")\n",
    "\n",
    "material_name = \"ZTA\"\n",
    "with engine.connect() as conn:\n",
    "    result = conn.execute(\n",
    "        text(\"SELECT id FROM materials WHERE name = :name\"),\n",
    "        {\"name\": material_name}\n",
    "    ).fetchone()\n",
    "    if result:\n",
    "        material_id = result.id\n",
    "        print(f\"success! found material: {material_name} with id: {material_id}\")"
   ]
  },
  {
   "cell_type": "code",
   "execution_count": null,
   "id": "b0653653-0049-403d-986f-ace73a571a87",
   "metadata": {},
   "outputs": [],
   "source": []
  }
 ],
 "metadata": {
  "kernelspec": {
   "display_name": "Python 3 (ipykernel)",
   "language": "python",
   "name": "python3"
  },
  "language_info": {
   "codemirror_mode": {
    "name": "ipython",
    "version": 3
   },
   "file_extension": ".py",
   "mimetype": "text/x-python",
   "name": "python",
   "nbconvert_exporter": "python",
   "pygments_lexer": "ipython3",
   "version": "3.13.5"
  }
 },
 "nbformat": 4,
 "nbformat_minor": 5
}
