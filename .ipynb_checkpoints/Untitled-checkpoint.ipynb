{
 "cells": [
  {
   "cell_type": "code",
   "execution_count": null,
   "id": "fda69929-c9ce-414a-a54f-bcc65d5d2dfb",
   "metadata": {},
   "outputs": [],
   "source": []
  }
 ],
 "metadata": {
  "kernelspec": {
   "display_name": "",
   "name": ""
  },
  "language_info": {
   "name": ""
  }
 },
 "nbformat": 4,
 "nbformat_minor": 5
}
