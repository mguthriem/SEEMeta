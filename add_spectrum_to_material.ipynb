{
 "cells": [
  {
   "cell_type": "code",
   "execution_count": 3,
   "id": "6892d47d-17e1-42cb-a5c4-55e8485f7ebe",
   "metadata": {},
   "outputs": [
    {
     "name": "stdout",
     "output_type": "stream",
     "text": [
      "✅ Spectrum successfully added for 'ZTA'\n"
     ]
    }
   ],
   "source": [
    "from sqlalchemy import create_engine, text\n",
    "import os\n",
    "\n",
    "# --- Configuration ---\n",
    "material_name = \"ZTA\"\n",
    "spectrum_type = \"Attenuation\"\n",
    "data_format = \"csv\"\n",
    "file_path = os.path.abspath(\"materials/spectra/dummySpectrum.csv\")\n",
    "\n",
    "# --- Connect to the DB ---\n",
    "db_file = os.path.abspath(\"./materials/materials.db\")\n",
    "engine = create_engine(f\"sqlite:///{db_file}\")\n",
    "\n",
    "# --- Insert with transaction to ensure commit ---\n",
    "with engine.begin() as conn:  # <-- this ensures COMMIT\n",
    "    result = conn.execute(\n",
    "        text(\"SELECT id FROM materials WHERE name = :name\"),\n",
    "        {\"name\": material_name}\n",
    "    ).fetchone()\n",
    "\n",
    "    if result is None:\n",
    "        raise ValueError(f\"❌ Material '{material_name}' not found.\")\n",
    "\n",
    "    material_id = result.id\n",
    "\n",
    "    conn.execute(\n",
    "        text(\"\"\"\n",
    "            INSERT INTO spectra (material_id, spectrum_type, data_format, file_path)\n",
    "            VALUES (:material_id, :spectrum_type, :data_format, :file_path)\n",
    "        \"\"\"),\n",
    "        {\n",
    "            \"material_id\": material_id,\n",
    "            \"spectrum_type\": spectrum_type,\n",
    "            \"data_format\": data_format,\n",
    "            \"file_path\": file_path\n",
    "        }\n",
    "    )\n",
    "\n",
    "print(f\"✅ Spectrum successfully added for '{material_name}'\")\n"
   ]
  },
  {
   "cell_type": "code",
   "execution_count": 4,
   "id": "b0653653-0049-403d-986f-ace73a571a87",
   "metadata": {},
   "outputs": [
    {
     "name": "stdout",
     "output_type": "stream",
     "text": [
      "Found 3 rows in spectra:\n",
      "{'id': 1, 'material_id': 16, 'spectrum_type': 'Attenuation', 'data_format': 'csv', 'file_path': '/Users/66j/Documents/ORNL/code/SEEMeta/materials/spectra/dummySpectrum.csv'}\n",
      "{'id': 2, 'material_id': 16, 'spectrum_type': 'Attenuation', 'data_format': 'csv', 'file_path': '/Users/66j/Documents/ORNL/code/SEEMeta/materials/spectra/dummySpectrum.csv'}\n",
      "{'id': 3, 'material_id': 16, 'spectrum_type': 'Attenuation', 'data_format': 'csv', 'file_path': '/Users/66j/Documents/ORNL/code/SEEMeta/materials/spectra/dummySpectrum.csv'}\n"
     ]
    }
   ],
   "source": [
    "# confirm it's there\n",
    "\n",
    "with engine.connect() as conn:\n",
    "    result = conn.execute(text(\"SELECT * FROM spectra\")).fetchall()\n",
    "    print(f\"Found {len(result)} rows in spectra:\")\n",
    "    for row in result:\n",
    "        print(dict(row._mapping))"
   ]
  },
  {
   "cell_type": "code",
   "execution_count": 5,
   "id": "002eb8ae-98e4-46b3-841c-71ab7c1f1e2a",
   "metadata": {},
   "outputs": [
    {
     "name": "stdout",
     "output_type": "stream",
     "text": [
      "Found 3 rows in spectra:\n",
      "{'id': 1, 'material_id': 16, 'spectrum_type': 'Attenuation', 'data_format': 'csv', 'file_path': '/Users/66j/Documents/ORNL/code/SEEMeta/materials/spectra/dummySpectrum.csv'}\n",
      "{'id': 2, 'material_id': 16, 'spectrum_type': 'Attenuation', 'data_format': 'csv', 'file_path': '/Users/66j/Documents/ORNL/code/SEEMeta/materials/spectra/dummySpectrum.csv'}\n",
      "{'id': 3, 'material_id': 16, 'spectrum_type': 'Attenuation', 'data_format': 'csv', 'file_path': '/Users/66j/Documents/ORNL/code/SEEMeta/materials/spectra/dummySpectrum.csv'}\n"
     ]
    }
   ],
   "source": [
    "with engine.connect() as conn:\n",
    "    result = conn.execute(text(\"SELECT * FROM spectra\")).fetchall()\n",
    "    print(f\"Found {len(result)} rows in spectra:\")\n",
    "    for row in result:\n",
    "        print(dict(row._mapping))"
   ]
  },
  {
   "cell_type": "code",
   "execution_count": null,
   "id": "98da929d-e0b0-48f1-ae22-3c8c81dacfb4",
   "metadata": {},
   "outputs": [],
   "source": []
  }
 ],
 "metadata": {
  "kernelspec": {
   "display_name": "Python 3 (ipykernel)",
   "language": "python",
   "name": "python3"
  },
  "language_info": {
   "codemirror_mode": {
    "name": "ipython",
    "version": 3
   },
   "file_extension": ".py",
   "mimetype": "text/x-python",
   "name": "python",
   "nbconvert_exporter": "python",
   "pygments_lexer": "ipython3",
   "version": "3.13.5"
  }
 },
 "nbformat": 4,
 "nbformat_minor": 5
}
