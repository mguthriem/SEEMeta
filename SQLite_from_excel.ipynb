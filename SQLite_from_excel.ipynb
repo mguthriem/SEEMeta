{
 "cells": [
  {
   "cell_type": "code",
   "execution_count": 58,
   "id": "fda69929-c9ce-414a-a54f-bcc65d5d2dfb",
   "metadata": {},
   "outputs": [
    {
     "name": "stdout",
     "output_type": "stream",
     "text": [
      "✅ materials.db committed with 16 materials.\n"
     ]
    }
   ],
   "source": [
    "import pandas as pd\n",
    "import os\n",
    "from sqlalchemy import create_engine, text\n",
    "\n",
    "# Setup paths\n",
    "path = \"./materials/\"\n",
    "os.makedirs(path, exist_ok=True)\n",
    "\n",
    "xlsx_file = os.path.join(path, \"materials.xlsx\")\n",
    "db_file = os.path.join(path, \"materials.db\")\n",
    "engine = create_engine(f\"sqlite:///{os.path.abspath(db_file)}\")\n",
    "\n",
    "# Load data\n",
    "df = pd.read_excel(xlsx_file)\n",
    "\n",
    "# Use transaction block that auto-commits\n",
    "with engine.begin() as conn:\n",
    "    conn.execute(text(\"DROP TABLE IF EXISTS materials\"))\n",
    "\n",
    "    conn.execute(text(\"\"\"\n",
    "        CREATE TABLE materials (\n",
    "            id INTEGER PRIMARY KEY,\n",
    "            name TEXT,\n",
    "            grade TEXT,\n",
    "            chemical_formula TEXT,\n",
    "            composition_by_weight_percent TEXT,\n",
    "            mass_density_g_cm3 REAL,\n",
    "            data_source TEXT\n",
    "        )\n",
    "    \"\"\"))\n",
    "\n",
    "    for _, row in df.iterrows():\n",
    "        conn.execute(text(\"\"\"\n",
    "            INSERT INTO materials (id, name, grade, chemical_formula,\n",
    "                                   composition_by_weight_percent,\n",
    "                                   mass_density_g_cm3, data_source)\n",
    "            VALUES (:id, :name, :grade, :chemical_formula, :composition,\n",
    "                    :density, :source)\n",
    "        \"\"\"), {\n",
    "            \"id\": int(row[\"id\"]),\n",
    "            \"name\": row[\"name\"],\n",
    "            \"grade\": row[\"grade\"],\n",
    "            \"chemical_formula\": row[\"chemical_formula\"],\n",
    "            \"composition\": row[\"composition_by_weight_percent\"],\n",
    "            \"density\": row[\"mass_density_g_cm3\"],\n",
    "            \"source\": row[\"data_source\"]\n",
    "        })\n",
    "\n",
    "print(f\"✅ materials.db committed with {len(df)} materials.\")\n"
   ]
  },
  {
   "cell_type": "code",
   "execution_count": 59,
   "id": "b2c1ad74-4926-4911-a29a-254f6a09220a",
   "metadata": {},
   "outputs": [
    {
     "name": "stdout",
     "output_type": "stream",
     "text": [
      "1: Al\n",
      "2: BeCu\n",
      "3: TiAlV\n",
      "4: TiZr\n",
      "5: SS304\n",
      "6: SS316\n",
      "7: V\n",
      "8: VNb\n",
      "9: NiCrAl\n",
      "10: Teflon\n",
      "11: Re\n",
      "12: W\n",
      "13: WC\n",
      "14: sinteredDiamond\n",
      "15: versimax\n",
      "16: ZTA\n"
     ]
    }
   ],
   "source": [
    "with engine.connect() as conn:\n",
    "    result = conn.execute(text(\"SELECT id, name FROM materials\"))\n",
    "    for row in result:\n",
    "        print(f\"{row.id}: {row.name}\")"
   ]
  },
  {
   "cell_type": "code",
   "execution_count": 54,
   "id": "5f61a559-1116-48fc-a09f-3beaf9436507",
   "metadata": {},
   "outputs": [
    {
     "name": "stdout",
     "output_type": "stream",
     "text": [
      "Using database at: /Users/66j/Documents/ORNL/code/SEEMeta/materials/materials.db\n"
     ]
    }
   ],
   "source": [
    "print(\"Using database at:\", os.path.abspath(\"./materials/materials.db\"))"
   ]
  },
  {
   "cell_type": "code",
   "execution_count": 55,
   "id": "4e3af8dd-21cf-4c69-aab9-c5bc103f548e",
   "metadata": {},
   "outputs": [],
   "source": [
    "engine = create_engine(\"sqlite:///materials/materials.db\")  # match exactly"
   ]
  },
  {
   "cell_type": "code",
   "execution_count": 56,
   "id": "6b439f14-76a0-4e9e-b0d1-e6d7a293502b",
   "metadata": {},
   "outputs": [
    {
     "name": "stdout",
     "output_type": "stream",
     "text": [
      "Tables in database:\n",
      "- sqlite_sequence\n",
      "- spectra\n",
      "- materials\n"
     ]
    }
   ],
   "source": [
    "with engine.connect() as conn:\n",
    "    result = conn.execute(text(\"SELECT name FROM sqlite_master WHERE type='table'\"))\n",
    "    print(\"Tables in database:\")\n",
    "    for row in result:\n",
    "        print(\"-\", row.name)"
   ]
  },
  {
   "cell_type": "code",
   "execution_count": 57,
   "id": "2cc3b525-d595-4d9c-9f0b-53a77506b71a",
   "metadata": {},
   "outputs": [
    {
     "name": "stdout",
     "output_type": "stream",
     "text": [
      "Found 0 materials:\n"
     ]
    }
   ],
   "source": [
    "with engine.connect() as conn:\n",
    "    result = conn.execute(text(\"SELECT id, name FROM materials\")).fetchall()\n",
    "    print(f\"Found {len(result)} materials:\")\n",
    "    for row in result:\n",
    "        print(f\"- {row.id}: {row.name}\")"
   ]
  },
  {
   "cell_type": "code",
   "execution_count": null,
   "id": "ed9baffe-1e2c-4766-af85-5bd01cdfa1e2",
   "metadata": {},
   "outputs": [],
   "source": []
  }
 ],
 "metadata": {
  "kernelspec": {
   "display_name": "Python 3 (ipykernel)",
   "language": "python",
   "name": "python3"
  },
  "language_info": {
   "codemirror_mode": {
    "name": "ipython",
    "version": 3
   },
   "file_extension": ".py",
   "mimetype": "text/x-python",
   "name": "python",
   "nbconvert_exporter": "python",
   "pygments_lexer": "ipython3",
   "version": "3.13.5"
  }
 },
 "nbformat": 4,
 "nbformat_minor": 5
}
